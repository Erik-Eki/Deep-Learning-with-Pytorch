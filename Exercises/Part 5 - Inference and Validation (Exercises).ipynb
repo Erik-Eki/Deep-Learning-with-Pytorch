{
 "cells": [
  {
   "cell_type": "markdown",
   "metadata": {},
   "source": [
    "# Inference and Validation\n",
    "\n",
    "Now that you have a trained network, you can use it for making predictions. This is typically called **inference**, a term borrowed from statistics. However, neural networks have a tendency to perform *too well* on the training data and aren't able to generalize to data that hasn't been seen before. This is called **overfitting** and it impairs inference performance. To test for overfitting while training, we measure the performance on data not in the training set called the **validation** set. We avoid overfitting through regularization such as dropout while monitoring the validation performance during training. In this notebook, I'll show you how to do this in PyTorch. \n",
    "\n",
    "As usual, let's start by loading the dataset through torchvision. You'll learn more about torchvision and loading data in a later part. This time we'll be taking advantage of the test set which you can get by setting `train=False` here:\n",
    "\n",
    "```python\n",
    "testset = datasets.FashionMNIST('~/.pytorch/F_MNIST_data/', download=True, train=False, transform=transform)\n",
    "```\n",
    "\n",
    "The test set contains images just like the training set. Typically you'll see 10-20% of the original dataset held out for testing and validation with the rest being used for training."
   ]
  },
  {
   "cell_type": "code",
   "execution_count": 1,
   "metadata": {},
   "outputs": [],
   "source": [
    "import torch\n",
    "from torchvision import datasets, transforms\n",
    "\n",
    "# Define a transform to normalize the data\n",
    "transform = transforms.Compose([transforms.ToTensor(),\n",
    "                                transforms.Normalize((0.5,), (0.5,))])\n",
    "# Download and load the training data\n",
    "trainset = datasets.FashionMNIST('~/.pytorch/F_MNIST_data/', download=True, train=True, transform=transform)\n",
    "trainloader = torch.utils.data.DataLoader(trainset, batch_size=64, shuffle=True)\n",
    "\n",
    "# Download and load the test data\n",
    "testset = datasets.FashionMNIST('~/.pytorch/F_MNIST_data/', download=True, train=False, transform=transform)\n",
    "testloader = torch.utils.data.DataLoader(testset, batch_size=64, shuffle=True)"
   ]
  },
  {
   "cell_type": "markdown",
   "metadata": {},
   "source": [
    "Here I'll create a model like normal, using the same one from my solution for part 4."
   ]
  },
  {
   "cell_type": "code",
   "execution_count": 2,
   "metadata": {},
   "outputs": [],
   "source": [
    "from torch import nn, optim\n",
    "import torch.nn.functional as F\n",
    "\n",
    "class Classifier(nn.Module):\n",
    "    def __init__(self):\n",
    "        super().__init__()\n",
    "        self.fc1 = nn.Linear(784, 256)\n",
    "        self.fc2 = nn.Linear(256, 128)\n",
    "        self.fc3 = nn.Linear(128, 64)\n",
    "        self.fc4 = nn.Linear(64, 10)\n",
    "        \n",
    "    def forward(self, x):\n",
    "        # make sure input tensor is flattened\n",
    "        x = x.view(x.shape[0], -1)\n",
    "        \n",
    "        x = F.relu(self.fc1(x))\n",
    "        x = F.relu(self.fc2(x))\n",
    "        x = F.relu(self.fc3(x))\n",
    "        x = F.log_softmax(self.fc4(x), dim=1)\n",
    "        \n",
    "        return x"
   ]
  },
  {
   "cell_type": "markdown",
   "metadata": {},
   "source": [
    "The goal of validation is to measure the model's performance on data that isn't part of the training set. Performance here is up to the developer to define though. Typically this is just accuracy, the percentage of classes the network predicted correctly. Other options are [precision and recall](https://en.wikipedia.org/wiki/Precision_and_recall#Definition_(classification_context)) and top-5 error rate. We'll focus on accuracy here. First I'll do a forward pass with one batch from the test set."
   ]
  },
  {
   "cell_type": "code",
   "execution_count": 3,
   "metadata": {},
   "outputs": [
    {
     "name": "stdout",
     "output_type": "stream",
     "text": [
      "torch.Size([64, 10])\n"
     ]
    }
   ],
   "source": [
    "model = Classifier()\n",
    "\n",
    "images, labels = next(iter(testloader))\n",
    "# Get the class probabilities\n",
    "ps = torch.exp(model(images))\n",
    "# Make sure the shape is appropriate, we should get 10 class probabilities for 64 examples\n",
    "print(ps.shape)"
   ]
  },
  {
   "cell_type": "markdown",
   "metadata": {},
   "source": [
    "With the probabilities, we can get the most likely class using the `ps.topk` method. This returns the $k$ highest values. Since we just want the most likely class, we can use `ps.topk(1)`. This returns a tuple of the top-$k$ values and the top-$k$ indices. If the highest value is the fifth element, we'll get back 4 as the index."
   ]
  },
  {
   "cell_type": "code",
   "execution_count": 4,
   "metadata": {},
   "outputs": [
    {
     "name": "stdout",
     "output_type": "stream",
     "text": [
      "tensor([[2],\n",
      "        [2],\n",
      "        [2],\n",
      "        [2],\n",
      "        [2],\n",
      "        [2],\n",
      "        [2],\n",
      "        [2],\n",
      "        [2],\n",
      "        [2]])\n",
      "Correct labels: tensor([1, 6, 7, 8, 9, 9, 5, 2, 8, 2])\n"
     ]
    }
   ],
   "source": [
    "top_p, top_class = ps.topk(1, dim=1)\n",
    "# Look at the most likely classes for the first 10 examples\n",
    "# note. At this point the network is not trained!\n",
    "\n",
    "print(top_class[:10,:])\n",
    "print(\"Correct labels:\", labels[:10])"
   ]
  },
  {
   "cell_type": "markdown",
   "metadata": {},
   "source": [
    "Now we can check if the predicted classes match the labels. This is simple to do by equating `top_class` and `labels`, but we have to be careful of the shapes. Here `top_class` is a 2D tensor with shape `(64, 1)` while `labels` is 1D with shape `(64)`. To get the equality to work out the way we want, `top_class` and `labels` must have the same shape.\n",
    "\n",
    "If we do\n",
    "\n",
    "```python\n",
    "equals = top_class == labels\n",
    "```\n",
    "\n",
    "`equals` will have shape `(64, 64)`, try it yourself. What it's doing is comparing the one element in each row of `top_class` with each element in `labels` which returns 64 True/False boolean values for each row."
   ]
  },
  {
   "cell_type": "code",
   "execution_count": 5,
   "metadata": {},
   "outputs": [
    {
     "data": {
      "text/plain": [
       "torch.Size([64, 1])"
      ]
     },
     "execution_count": 5,
     "metadata": {},
     "output_type": "execute_result"
    }
   ],
   "source": [
    "equals = top_class == labels.view(*top_class.shape)\n",
    "equals.shape"
   ]
  },
  {
   "cell_type": "markdown",
   "metadata": {},
   "source": [
    "Now we need to calculate the percentage of correct predictions. `equals` has binary values, either 0 or 1. This means that if we just sum up all the values and divide by the number of values, we get the percentage of correct predictions. This is the same operation as taking the mean, so we can get the accuracy with a call to `torch.mean`. If only it was that simple. If you try `torch.mean(equals)`, you'll get an error\n",
    "\n",
    "```\n",
    "RuntimeError: mean is not implemented for type torch.ByteTensor\n",
    "```\n",
    "\n",
    "This happens because `equals` has type `torch.ByteTensor` but `torch.mean` isn't implemented for tensors with that type. So we'll need to convert `equals` to a float tensor. Note that when we take `torch.mean` it returns a scalar tensor, to get the actual value as a float we'll need to do `accuracy.item()`."
   ]
  },
  {
   "cell_type": "code",
   "execution_count": 6,
   "metadata": {},
   "outputs": [
    {
     "name": "stdout",
     "output_type": "stream",
     "text": [
      "Accuracy: 12.5%\n"
     ]
    }
   ],
   "source": [
    "accuracy = torch.mean(equals.type(torch.FloatTensor))\n",
    "print(f'Accuracy: {accuracy.item()*100}%')"
   ]
  },
  {
   "cell_type": "markdown",
   "metadata": {},
   "source": [
    "The network is untrained so it's making random guesses and we should see an accuracy around 10%. Now let's train our network and include our validation pass so we can measure how well the network is performing on the test set. Since we're not updating our parameters in the validation pass, we can speed up our code by turning off gradients using `torch.no_grad()`:\n",
    "\n",
    "```python\n",
    "# turn off gradients\n",
    "with torch.no_grad():\n",
    "    # validation pass here\n",
    "    for images, labels in testloader:\n",
    "        ...\n",
    "```\n",
    "\n",
    ">**Exercise 5.1:** Implement the validation loop below and print out the total accuracy after the loop. You can largely copy and paste the code from above, but I suggest typing it in because writing it out yourself is essential for building the skill. In general you'll always learn more by typing it rather than copy-pasting. You should be able to get an accuracy above 80%."
   ]
  },
  {
   "cell_type": "code",
   "execution_count": 7,
   "metadata": {},
   "outputs": [
    {
     "name": "stderr",
     "output_type": "stream",
     "text": [
      "/opt/conda/lib/python3.6/site-packages/torch/autograd/__init__.py:132: UserWarning: CUDA initialization: Found no NVIDIA driver on your system. Please check that you have an NVIDIA GPU and installed a driver from http://www.nvidia.com/Download/index.aspx (Triggered internally at  /pytorch/c10/cuda/CUDAFunctions.cpp:100.)\n",
      "  allow_unreachable=True)  # allow_unreachable flag\n"
     ]
    },
    {
     "name": "stdout",
     "output_type": "stream",
     "text": [
      "Accuracy: 81.25%\n",
      "Accuracy: 90.625%\n",
      "Accuracy: 85.9375%\n",
      "Accuracy: 95.3125%\n",
      "Accuracy: 89.0625%\n",
      "Accuracy: 93.75%\n",
      "Accuracy: 93.75%\n",
      "Accuracy: 93.75%\n",
      "Accuracy: 87.5%\n",
      "Accuracy: 78.125%\n",
      "Accuracy: 89.0625%\n",
      "Accuracy: 87.5%\n",
      "Accuracy: 98.4375%\n",
      "Accuracy: 90.625%\n",
      "Accuracy: 89.0625%\n",
      "Accuracy: 90.625%\n",
      "Accuracy: 90.625%\n",
      "Accuracy: 96.875%\n",
      "Accuracy: 84.375%\n",
      "Accuracy: 90.625%\n",
      "Accuracy: 98.4375%\n",
      "Accuracy: 98.4375%\n",
      "Accuracy: 93.75%\n",
      "Accuracy: 90.625%\n",
      "Accuracy: 93.75%\n",
      "Accuracy: 87.5%\n",
      "Accuracy: 93.75%\n",
      "Accuracy: 93.75%\n",
      "Accuracy: 89.0625%\n",
      "Accuracy: 89.0625%\n"
     ]
    }
   ],
   "source": [
    "## Exercise 5.1\n",
    "\n",
    "model = Classifier()\n",
    "criterion = nn.NLLLoss()\n",
    "optimizer = optim.Adam(model.parameters(), lr=0.003)\n",
    "\n",
    "epochs = 30\n",
    "steps = 0\n",
    "\n",
    "train_losses, test_losses = [], []\n",
    "for e in range(epochs):\n",
    "    running_loss = 0\n",
    "    for images, labels in trainloader:\n",
    "        \n",
    "        optimizer.zero_grad()\n",
    "        \n",
    "        log_ps = model(images)\n",
    "        loss = criterion(log_ps, labels)\n",
    "        loss.backward()\n",
    "        optimizer.step()\n",
    "        \n",
    "        running_loss += loss.item()\n",
    "        \n",
    "    else:\n",
    "        ## TODO: Implement the validation pass and print out the validation accuracy\n",
    "        images, labels = next(iter(trainloader))\n",
    "        # Get the class probabilities\n",
    "        ps = torch.exp(model(images))\n",
    "        top_p, top_class = ps.topk(1, dim=1)\n",
    "        equals = top_class == labels.view(*top_class.shape)\n",
    "        accuracy = torch.mean(equals.type(torch.FloatTensor))\n",
    "        print(f'Accuracy: {accuracy.item()*100}%')"
   ]
  },
  {
   "cell_type": "markdown",
   "metadata": {},
   "source": [
    "## Overfitting\n",
    "\n",
    "If we look at the training and validation losses as we train the network, we can see a phenomenon known as overfitting.\n",
    "\n",
    "<img src='assets/overfitting.png' width=450px>\n",
    "\n",
    "The network learns the training set better and better, resulting in lower training losses. However, it starts having problems generalizing to data outside the training set leading to the validation loss increasing. The ultimate goal of any deep learning model is to make predictions on new data, so we should strive to get the lowest validation loss possible. One option is to use the version of the model with the lowest validation loss, here the one around 8-10 training epochs. This strategy is called *early-stopping*. In practice, you'd save the model frequently as you're training then later choose the model with the lowest validation loss.\n",
    "\n",
    "The most common method to reduce overfitting (outside of early-stopping) is *dropout*, where we randomly drop input units. This forces the network to share information between weights, increasing it's ability to generalize to new data. Adding dropout in PyTorch is straightforward using the [`nn.Dropout`](https://pytorch.org/docs/stable/nn.html#torch.nn.Dropout) module.\n",
    "\n",
    "```python\n",
    "class Classifier(nn.Module):\n",
    "    def __init__(self):\n",
    "        super().__init__()\n",
    "        self.fc1 = nn.Linear(784, 256)\n",
    "        self.fc2 = nn.Linear(256, 128)\n",
    "        self.fc3 = nn.Linear(128, 64)\n",
    "        self.fc4 = nn.Linear(64, 10)\n",
    "        \n",
    "        # Dropout module with 0.2 drop probability\n",
    "        self.dropout = nn.Dropout(p=0.2)\n",
    "        \n",
    "    def forward(self, x):\n",
    "        # make sure input tensor is flattened\n",
    "        x = x.view(x.shape[0], -1)\n",
    "        \n",
    "        # Now with dropout\n",
    "        x = self.dropout(F.relu(self.fc1(x)))\n",
    "        x = self.dropout(F.relu(self.fc2(x)))\n",
    "        x = self.dropout(F.relu(self.fc3(x)))\n",
    "        \n",
    "        # output so no dropout here\n",
    "        x = F.log_softmax(self.fc4(x), dim=1)\n",
    "        \n",
    "        return x\n",
    "```\n",
    "\n",
    "During training we want to use dropout to prevent overfitting, but during inference we want to use the entire network. So, we need to turn off dropout during validation, testing, and whenever we're using the network to make predictions. To do this, you use `model.eval()`. This sets the model to evaluation mode where the dropout probability is 0. You can turn dropout back on by setting the model to train mode with `model.train()`. In general, the pattern for the validation loop will look like this, where you turn off gradients, set the model to evaluation mode, calculate the validation loss and metric, then set the model back to train mode.\n",
    "\n",
    "```python\n",
    "# turn off gradients\n",
    "with torch.no_grad():\n",
    "    \n",
    "    # set model to evaluation mode\n",
    "    model.eval()\n",
    "    \n",
    "    # validation pass here\n",
    "    for images, labels in testloader:\n",
    "        ...\n",
    "\n",
    "# set model back to train mode\n",
    "model.train()\n",
    "```"
   ]
  },
  {
   "cell_type": "markdown",
   "metadata": {},
   "source": [
    "> **Exercise 5.2:** Define network with dropout.\n",
    ">\n",
    "> **Exercise 5.3:** Train the network with Fashion-MNIST again.\n",
    ">\n",
    "> **Exercise 5.4:** Plot training loss and validation loss to see if you can get a lower validation loss or higher accuracy."
   ]
  },
  {
   "cell_type": "code",
   "execution_count": 5,
   "metadata": {},
   "outputs": [
    {
     "name": "stdout",
     "output_type": "stream",
     "text": [
      "Label: 0\n"
     ]
    },
    {
     "data": {
      "image/png": "[encoded data removed]",
      "text/plain": [
       "<Figure size 432x648 with 2 Axes>"
      ]
     },
     "metadata": {
      "needs_background": "light"
     },
     "output_type": "display_data"
    }
   ],
   "source": [
    "## Exercise 5.2: \n",
    "## TODO: Define your model with dropout added\n",
    "\n",
    "from torch import nn\n",
    "import helper\n",
    "\n",
    "class Classifier(nn.Module):\n",
    "    def __init__(self): \n",
    "        super(Classifier, self).__init__()\n",
    "        self.classifier = nn.Sequential(nn.Linear(784, 256),\n",
    "                                        nn.ReLU(),\n",
    "                                        nn.Linear(256, 128),\n",
    "                                        nn.ReLU(),\n",
    "                                        nn.Linear(128, 64),\n",
    "                                        nn.ReLU(),\n",
    "                                        nn.Linear(64, 10),\n",
    "                                        nn.Flatten(),\n",
    "                                        nn.Dropout(p=0.2),\n",
    "                                        nn.LogSoftmax(dim=1))\n",
    "             \n",
    "    def forward(self, x):\n",
    "        x = x.view(x.size(0), -1)\n",
    "        x = self.classifier(x)\n",
    "        return x\n",
    "\n",
    "model = Classifier()\n",
    "criterion = nn.NLLLoss()\n",
    "optimizer = optim.Adam(model.parameters(), lr=0.003)\n",
    "\n",
    "images, labels = next(iter(trainloader))\n",
    "\n",
    "img = images[0].view(1, 784)\n",
    "\n",
    "# Output of the network are log-probabilities\n",
    "ps = torch.exp(model(img))\n",
    "helper.view_classify(img.view(1, 28, 28), ps)\n",
    "print(\"Label:\", labels[0].item())"
   ]
  },
  {
   "cell_type": "code",
   "execution_count": 6,
   "metadata": {},
   "outputs": [
    {
     "name": "stdout",
     "output_type": "stream",
     "text": [
      "\n",
      "Epoch 1\n"
     ]
    },
    {
     "name": "stderr",
     "output_type": "stream",
     "text": [
      "/opt/conda/lib/python3.6/site-packages/torch/autograd/__init__.py:132: UserWarning: CUDA initialization: Found no NVIDIA driver on your system. Please check that you have an NVIDIA GPU and installed a driver from http://www.nvidia.com/Download/index.aspx (Triggered internally at  /pytorch/c10/cuda/CUDAFunctions.cpp:100.)\n",
      "  allow_unreachable=True)  # allow_unreachable flag\n"
     ]
    },
    {
     "name": "stdout",
     "output_type": "stream",
     "text": [
      "Training loss: 0.7598204664520617\n",
      "Accuracy: 89.0625%\n",
      "Validation loss: 0.4227817748337666%\n",
      "\n",
      "Epoch 2\n",
      "Training loss: 0.6307596568741015\n",
      "Accuracy: 84.375%\n",
      "Validation loss: 0.3752884464477425%\n",
      "\n",
      "Epoch 3\n",
      "Training loss: 0.5881006779955394\n",
      "Accuracy: 95.3125%\n",
      "Validation loss: 0.3402192725587501%\n",
      "\n",
      "Epoch 4\n",
      "Training loss: 0.564366282907122\n",
      "Accuracy: 89.0625%\n",
      "Validation loss: 0.3341160123186833%\n",
      "\n",
      "Epoch 5\n",
      "Training loss: 0.54621863374705\n",
      "Accuracy: 81.25%\n",
      "Validation loss: 0.316020211860188%\n",
      "\n",
      "Epoch 6\n",
      "Training loss: 0.5376582821167862\n",
      "Accuracy: 85.9375%\n",
      "Validation loss: 0.2997563769345853%\n",
      "\n",
      "Epoch 7\n",
      "Training loss: 0.5218207164645703\n",
      "Accuracy: 90.625%\n",
      "Validation loss: 0.2817088119479131%\n",
      "\n",
      "Epoch 8\n",
      "Training loss: 0.5135674650576323\n",
      "Accuracy: 82.8125%\n",
      "Validation loss: 0.28121477202661255%\n",
      "\n",
      "Epoch 9\n",
      "Training loss: 0.5035187275424949\n",
      "Accuracy: 90.625%\n",
      "Validation loss: 0.2924748360316382%\n",
      "\n",
      "Epoch 10\n",
      "Training loss: 0.491535189944798\n",
      "Accuracy: 95.3125%\n",
      "Validation loss: 0.2599916256058699%\n",
      "\n",
      "Epoch 11\n",
      "Training loss: 0.49349444963212713\n",
      "Accuracy: 89.0625%\n",
      "Validation loss: 0.2864071823624787%\n",
      "\n",
      "Epoch 12\n",
      "Training loss: 0.489356995391439\n",
      "Accuracy: 78.125%\n",
      "Validation loss: 0.30549128834944544%\n",
      "\n",
      "Epoch 13\n",
      "Training loss: 0.4789466957357138\n",
      "Accuracy: 84.375%\n",
      "Validation loss: 0.25157804885652785%\n",
      "\n",
      "Epoch 14\n",
      "Training loss: 0.47091031873594724\n",
      "Accuracy: 95.3125%\n",
      "Validation loss: 0.251887108812899%\n",
      "\n",
      "Epoch 15\n",
      "Training loss: 0.4648592487644793\n",
      "Accuracy: 90.625%\n",
      "Validation loss: 0.2335420953137661%\n",
      "\n",
      "Epoch 16\n",
      "Training loss: 0.46369015017170895\n",
      "Accuracy: 89.0625%\n",
      "Validation loss: 0.254749860423905%\n",
      "\n",
      "Epoch 17\n",
      "Training loss: 0.4535982461372164\n",
      "Accuracy: 96.875%\n",
      "Validation loss: 0.2216764973210437%\n",
      "\n",
      "Epoch 18\n",
      "Training loss: 0.45336897253418273\n",
      "Accuracy: 95.3125%\n",
      "Validation loss: 0.2289854499743755%\n",
      "\n",
      "Epoch 19\n",
      "Training loss: 0.45132252705821607\n",
      "Accuracy: 95.3125%\n",
      "Validation loss: 0.21210923096312007%\n",
      "\n",
      "Epoch 20\n",
      "Training loss: 0.4426053460282303\n",
      "Accuracy: 92.1875%\n",
      "Validation loss: 0.21476556872253988%\n",
      "\n",
      "Epoch 21\n",
      "Training loss: 0.4382554558929858\n",
      "Accuracy: 87.5%\n",
      "Validation loss: 0.21160069619144586%\n",
      "\n",
      "Epoch 22\n",
      "Training loss: 0.43151333003537234\n",
      "Accuracy: 87.5%\n",
      "Validation loss: 0.21684742067207788%\n",
      "\n",
      "Epoch 23\n",
      "Training loss: 0.4410180907482023\n",
      "Accuracy: 87.5%\n",
      "Validation loss: 0.23029973332100967%\n",
      "\n",
      "Epoch 24\n",
      "Training loss: 0.43223192291790996\n",
      "Accuracy: 95.3125%\n",
      "Validation loss: 0.20840438744867407%\n",
      "\n",
      "Epoch 25\n",
      "Training loss: 0.42157206555673565\n",
      "Accuracy: 93.75%\n",
      "Validation loss: 0.21225180958649878%\n",
      "\n",
      "Epoch 26\n",
      "Training loss: 0.4232290653881234\n",
      "Accuracy: 93.75%\n",
      "Validation loss: 0.18963286374757157%\n",
      "\n",
      "Epoch 27\n",
      "Training loss: 0.4205904491166316\n",
      "Accuracy: 92.1875%\n",
      "Validation loss: 0.20442942464386604%\n",
      "\n",
      "Epoch 28\n",
      "Training loss: 0.42354447348539764\n",
      "Accuracy: 85.9375%\n",
      "Validation loss: 0.2045929108871453%\n",
      "\n",
      "Epoch 29\n",
      "Training loss: 0.4064518840614158\n",
      "Accuracy: 98.4375%\n",
      "Validation loss: 0.19186068030951947%\n",
      "\n",
      "Epoch 30\n",
      "Training loss: 0.4248236371065254\n",
      "Accuracy: 92.1875%\n",
      "Validation loss: 0.19356471316805526%\n"
     ]
    }
   ],
   "source": [
    "## Exercise 5.3: \n",
    "## TODO: Train your model with dropout, and monitor the training progress with the validation loss and accuracy\n",
    "\n",
    "# Initialize lists to be used in plotting\n",
    "train_loss, val_loss, accur = [], [], []\n",
    "epochs = 30\n",
    "\n",
    "for i in range(epochs):\n",
    "    print(f'\\nEpoch {i+1}')\n",
    "    running_loss = 0\n",
    "    validation_loss = 0\n",
    "\n",
    "    for img, labels in trainloader:\n",
    "        images = img.view(img.shape[0], -1)\n",
    "        # flush gradients\n",
    "        optimizer.zero_grad()\n",
    "        # forward pass\n",
    "        output = model(images)\n",
    "        loss = criterion(output, labels)\n",
    "\n",
    "        # backwards pass and update weights\n",
    "        loss.backward()\n",
    "        # update step and weights\n",
    "        optimizer.step()\n",
    "        # add to the overall loss\n",
    "        running_loss += loss.item()\n",
    "    else:\n",
    "        print(f'Training loss: {running_loss/len(trainloader)}')\n",
    "        train_loss.append(running_loss/len(trainloader))\n",
    "        # turn off gradients\n",
    "        with torch.no_grad():\n",
    "            # set model to evaluation mode\n",
    "            model.eval()\n",
    "            \n",
    "            for img, labels in trainloader:\n",
    "                # validation pass\n",
    "                images = img.view(img.shape[0], -1)\n",
    "                logps = model(images)\n",
    "                batch_loss = criterion(logps, labels)\n",
    "                \n",
    "                validation_loss += batch_loss.item()\n",
    "                \n",
    "                images, labels = next(iter(trainloader))\n",
    "                # Get the class probabilities\n",
    "                ps = torch.exp(model(images))\n",
    "                # Get the likeliest class by taking the 𝑘 highest values\n",
    "                top_p, top_class = ps.topk(1, dim=1)\n",
    "                # Check if the predicted classes match the labels\n",
    "                equals = top_class == labels.view(*top_class.shape)\n",
    "                # Calculate the percentage of correct predictions\n",
    "                accuracy = torch.mean(equals.type(torch.FloatTensor))\n",
    "            \n",
    "            # Print and append into list for plotting\n",
    "            print(f'Accuracy: {accuracy.item()*100}%')\n",
    "            accur.append(accuracy.item()*100)\n",
    "            print(f'Validation loss: {validation_loss/len(trainloader)}%')\n",
    "            val_loss.append(validation_loss/len(trainloader))\n",
    "        # set model back to train mode\n",
    "        model.train()"
   ]
  },
  {
   "cell_type": "code",
   "execution_count": 7,
   "metadata": {},
   "outputs": [
    {
     "name": "stdout",
     "output_type": "stream",
     "text": [
      "30\n",
      "30\n"
     ]
    },
    {
     "data": {
      "text/plain": [
       "<matplotlib.legend.Legend at 0x7f3cfcf44278>"
      ]
     },
     "execution_count": 7,
     "metadata": {},
     "output_type": "execute_result"
    },
    {
     "data": {
      "image/png": "[encoded data removed]",
      "text/plain": [
       "<Figure size 432x288 with 1 Axes>"
      ]
     },
     "metadata": {
      "image/png": {
       "height": 250,
       "width": 373
      },
      "needs_background": "light"
     },
     "output_type": "display_data"
    }
   ],
   "source": [
    "'''Dropout drop rate 50% (Default)'''\n",
    "\n",
    "## Exercise 5.4: \n",
    "print(len(train_loss))\n",
    "print(len(val_loss))\n",
    "\n",
    "%matplotlib inline\n",
    "%config InlineBackend.figure_format = 'retina'\n",
    "\n",
    "import matplotlib.pyplot as plt\n",
    "\n",
    "## TODO: plot training loss and validation loss vs. training epoch\n",
    "plt.plot([i for i in range(epochs)], [j/100 for j in accur], color=\"black\", label=\"Accuracy\", alpha=0.5)\n",
    "plt.plot([i for i in range(epochs)], train_loss, color=\"b\", label=\"Training loss\")\n",
    "plt.plot([i for i in range(epochs)], val_loss, color=\"darkorange\", label=\"Validation loss\")\n",
    "plt.legend()"
   ]
  },
  {
   "cell_type": "code",
   "execution_count": 18,
   "metadata": {},
   "outputs": [
    {
     "name": "stdout",
     "output_type": "stream",
     "text": [
      "30\n",
      "30\n"
     ]
    },
    {
     "data": {
      "text/plain": [
       "<matplotlib.legend.Legend at 0x7f4fe55d2860>"
      ]
     },
     "execution_count": 18,
     "metadata": {},
     "output_type": "execute_result"
    },
    {
     "data": {
      "image/png": "[encoded data removed]",
      "text/plain": [
       "<Figure size 432x288 with 1 Axes>"
      ]
     },
     "metadata": {
      "image/png": {
       "height": 250,
       "width": 373
      },
      "needs_background": "light"
     },
     "output_type": "display_data"
    }
   ],
   "source": [
    "'''Dropout drop rate 20%'''\n",
    "\n",
    "plt.plot([i for i in range(epochs)], [j/100 for j in accur], color=\"black\", label=\"Accuracy\", alpha=0.5)\n",
    "plt.plot([i for i in range(epochs)], train_loss, color=\"b\", label=\"Training loss\")\n",
    "plt.plot([i for i in range(epochs)], val_loss, color=\"darkorange\", label=\"Validation loss\")\n",
    "plt.legend()"
   ]
  },
  {
   "cell_type": "markdown",
   "metadata": {},
   "source": [
    "### Training ja validation loss laskee ja accuracy kasvaa, verkko oppii siis oikein."
   ]
  },
  {
   "cell_type": "markdown",
   "metadata": {},
   "source": [
    "### More about overfitting \n",
    "\n",
    "\"Dropout\" method helps to cope with overfitting. However it makes model debuging bit harder and you must remember to turn dropout OFF while using the network, i.e. dropout is used only in training. But don't worry Pytorch will do it for you if you remember initialize dropout \n",
    "\n",
    "```# Dropout module with 0.2 drop probability\n",
    "        self.dropout = nn.Dropout(p=0.2)```\n",
    "\n",
    "and set model to evaluation mode\n",
    "        \n",
    "```# set model to evaluation mode\n",
    "    model.eval()```.        \n",
    "\n",
    "these are not preferred method for overfitting.\n",
    "\n",
    "#### Other methods to cope with overfitting\n",
    "\n",
    "##### Early-stopping\n",
    "\n",
    "Training stopping at the point where it reaches best performance (= minimum error/loss), is also used to cope with overfitting, but this is not recommended because this limits training data usage to some maximum amount. And because modern deep learning models are based to training with big data amounts, this is very tricky combination...\n",
    "\n",
    "<img src='assets/Early_stopping.svg' width=400px>\n",
    "\n",
    "\n",
    "##### Regulation\n",
    "Another very popular method for overfitting is regularization. This method is based on target to minimize weights (=co-efficients = w) in the network. This is done by adding the `|w|` or `|w|^2` to loss function.\n",
    "\n",
    "<img src='assets/Error_function_reg.svg' width=700px>\n",
    "\n"
   ]
  },
  {
   "cell_type": "markdown",
   "metadata": {},
   "source": [
    "## Inference\n",
    "\n",
    "Now that the model is trained, we can use it for inference. We've done this before, but now we need to remember to set the model in inference mode with `model.eval()`. You'll also want to turn off autograd with the `torch.no_grad()` context."
   ]
  },
  {
   "cell_type": "code",
   "execution_count": 24,
   "metadata": {},
   "outputs": [
    {
     "data": {
      "image/png": "[encoded data removed]",
      "text/plain": [
       "<Figure size 432x648 with 2 Axes>"
      ]
     },
     "metadata": {
      "image/png": {
       "height": 204,
       "width": 423
      },
      "needs_background": "light"
     },
     "output_type": "display_data"
    }
   ],
   "source": [
    "# Import helper module (should be in the repo)\n",
    "import helper\n",
    "\n",
    "# Test out your network!\n",
    "\n",
    "model.eval()\n",
    "\n",
    "dataiter = iter(testloader)\n",
    "images, labels = dataiter.next()\n",
    "img = images[0]\n",
    "# Convert 2D image to 1D vector\n",
    "img = img.view(1, 784)\n",
    "\n",
    "# Calculate the class probabilities (softmax) for img\n",
    "with torch.no_grad():\n",
    "    output = model.forward(img)\n",
    "\n",
    "ps = torch.exp(output)\n",
    "\n",
    "# Plot the image and probabilities\n",
    "helper.view_classify(img.view(1, 28, 28), ps, version='Fashion')"
   ]
  },
  {
   "cell_type": "markdown",
   "metadata": {},
   "source": [
    "## Next Up!\n",
    "\n",
    "In the next part, I'll show you how to save your trained models. In general, you won't want to train a model everytime you need it. Instead, you'll train once, save it, then load the model when you want to train more or use if for inference."
   ]
  },
  {
   "cell_type": "markdown",
   "metadata": {},
   "source": [
    "## Reflection\n",
    "\n",
    "Answer briefly following questions (in English or Finnish):\n",
    "- What is overfitting?\n",
    "- How you can avoid overfitting?\n",
    "\n",
    "#### Network Performance\n",
    "\n",
    "- Does network Training Loss decrease monotonously? What about Validation Loss?\n",
    "- Is the performance better when using dropout with 20% drop rate? What about if you change drop rate?\n"
   ]
  },
  {
   "cell_type": "markdown",
   "metadata": {},
   "source": [
    "- Ylisovittimisella tarkoitetaan mallia, joka ei pysty yleistämään oppimaansa ja suoriutuu hyvin vain opetusdatalla jolloin validation loss kasvaa.\n",
    "- Ylisovittamista voidaan välttää: \n",
    "    - Dropoutilla, jossa pudotetaan satunnaisesti sisääntuloja. Tämä pakottaa verkon jakamaan tietoja painojen välillä, mikä lisää sen kykyä yleistää uusia tietoja.\n",
    "    - Early-stopping on verkko, jossa validation loss on pienin (tämä löytyy läpikäymisellä)\n",
    "    \n",
    "- Training loss putoaa tasaisesti, niinkuin sen pitäisikin. Validation loss putoaa, mutta sitten hypähtää jossain 7-9 läpikäynnillä, mikä meinaa että siinä kohtaa alkoi näkymään ylisovittumista.\n",
    "- 50% dropout rate on tasaisempi kuin 20%. Suurta hyppyä validation loss:issa ei tapahdu,"
   ]
  },
  {
   "cell_type": "code",
   "execution_count": null,
   "metadata": {},
   "outputs": [],
   "source": []
  }
 ],
 "metadata": {
  "kernelspec": {
   "display_name": "Python 3",
   "language": "python",
   "name": "python3"
  },
  "language_info": {
   "codemirror_mode": {
    "name": "ipython",
    "version": 3
   },
   "file_extension": ".py",
   "mimetype": "text/x-python",
   "name": "python",
   "nbconvert_exporter": "python",
   "pygments_lexer": "ipython3",
   "version": "3.6.7"
  }
 },
 "nbformat": 4,
 "nbformat_minor": 2
}
