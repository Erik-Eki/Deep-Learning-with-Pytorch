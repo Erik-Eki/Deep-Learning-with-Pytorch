{
 "cells": [
  {
   "cell_type": "markdown",
   "metadata": {},
   "source": [
    "# Neural networks with PyTorch\n",
    "\n",
    "Deep learning networks tend to be massive with dozens or hundreds of layers, that's where the term \"deep\" comes from. You can build one of these deep networks using only weight matrices as we did in the previous notebook, but in general it's very cumbersome and difficult to implement. PyTorch has a nice module `nn` that provides a nice way to efficiently build large neural networks."
   ]
  },
  {
   "cell_type": "code",
   "execution_count": 1,
   "metadata": {
    "collapsed": true
   },
   "outputs": [],
   "source": [
    "# Import necessary packages\n",
    "\n",
    "%matplotlib inline\n",
    "%config InlineBackend.figure_format = 'retina'\n",
    "\n",
    "import numpy as np\n",
    "import torch\n",
    "\n",
    "import helper\n",
    "\n",
    "import matplotlib.pyplot as plt"
   ]
  },
  {
   "cell_type": "markdown",
   "metadata": {},
   "source": [
    "\n",
    "Now we're going to build a larger network that can solve a (formerly) difficult problem, identifying text in an image. Here we'll use the MNIST dataset which consists of greyscale handwritten digits. Each image is 28x28 pixels, you can see a sample below\n",
    "\n",
    "<img src='assets/mnist.png'>\n",
    "\n",
    "Our goal is to build a neural network that can take one of these images and predict the digit in the image.\n",
    "\n",
    "First up, we need to get our dataset. This is provided through the `torchvision` package. The code below will download the MNIST dataset, then create training and test datasets for us. Don't worry too much about the details here, you'll learn more about this later."
   ]
  },
  {
   "cell_type": "code",
   "execution_count": 2,
   "metadata": {
    "collapsed": true
   },
   "outputs": [],
   "source": [
    "### Run this cell\n",
    "\n",
    "from torchvision import datasets, transforms\n",
    "\n",
    "# Define a transform to normalize the data\n",
    "transform = transforms.Compose([transforms.ToTensor(),\n",
    "                              transforms.Normalize((0.5,), (0.5,)),\n",
    "                              ])\n",
    "\n",
    "# Download and load the training data\n",
    "trainset = datasets.MNIST('~/.pytorch/MNIST_data/', download=True, train=True, transform=transform)\n",
    "trainloader = torch.utils.data.DataLoader(trainset, batch_size=64, shuffle=True)"
   ]
  },
  {
   "cell_type": "markdown",
   "metadata": {},
   "source": [
    "We have the training data loaded into `trainloader` and we make that an iterator with `iter(trainloader)`. Later, we'll use this to loop through the dataset for training, like\n",
    "\n",
    "```python\n",
    "for image, label in trainloader:\n",
    "    ## do things with images and labels\n",
    "```\n",
    "\n",
    "You'll notice I created the `trainloader` with a batch size of 64, and `shuffle=True`. The batch size is the number of images we get in one iteration from the data loader and pass through our network, often called a *batch*. And `shuffle=True` tells it to shuffle the dataset every time we start going through the data loader again. But here I'm just grabbing the first batch so we can check out the data. We can see below that `images` is just a tensor with size `(64, 1, 28, 28)`. So, 64 images per batch, 1 color channel, and 28x28 images."
   ]
  },
  {
   "cell_type": "code",
   "execution_count": 3,
   "metadata": {
    "collapsed": true
   },
   "outputs": [
    {
     "name": "stdout",
     "output_type": "stream",
     "text": [
      "<class 'torch.Tensor'>\n",
      "torch.Size([64, 1, 28, 28])\n",
      "torch.Size([64])\n"
     ]
    }
   ],
   "source": [
    "dataiter = iter(trainloader)\n",
    "images, labels = dataiter.next()\n",
    "print(type(images))\n",
    "print(images.shape)\n",
    "print(labels.shape)"
   ]
  },
  {
   "cell_type": "markdown",
   "metadata": {},
   "source": [
    "This is what one of the images looks like. "
   ]
  },
  {
   "cell_type": "code",
   "execution_count": 4,
   "metadata": {
    "collapsed": true
   },
   "outputs": [
    {
     "name": "stdout",
     "output_type": "stream",
     "text": [
      "Label: 9\n"
     ]
    },
    {
     "data": {
      "image/png": "[encoded data removed]",
      "text/plain": [
       "<Figure size 432x288 with 1 Axes>"
      ]
     },
     "metadata": {
      "image/png": {
       "height": 250,
       "width": 253
      },
      "needs_background": "light"
     },
     "output_type": "display_data"
    }
   ],
   "source": [
    "plt.imshow(images[1].numpy().squeeze(), cmap='Greys_r');\n",
    "print(\"Label:\",labels[1].item())"
   ]
  },
  {
   "cell_type": "markdown",
   "metadata": {},
   "source": [
    "First, let's try to build a simple network for this dataset using weight matrices and matrix multiplications. Then, we'll see how to do it using PyTorch's `nn` module which provides a much more convenient and powerful method for defining network architectures.\n",
    "\n",
    "The networks you've seen so far are called *fully-connected* or *dense* networks. Each unit in one layer is connected to each unit in the next layer. In fully-connected networks, the input to each layer must be a one-dimensional vector (which can be stacked into a 2D tensor as a batch of multiple examples). However, our images are 28x28 2D tensors, so we need to convert them into 1D vectors. Thinking about sizes, we need to convert the batch of images with shape `(64, 1, 28, 28)` to a have a shape of `(64, 784)`, 784 is 28 times 28. This is typically called *flattening*, we flattened the 2D images into 1D vectors.\n",
    "\n",
    "Previously you built a network with one output unit. Here we need 10 output units, one for each digit. We want our network to predict the digit shown in an image, so what we'll do is calculate probabilities that the image is of any one digit or class. This ends up being a discrete probability distribution over the classes (digits) that tells us the most likely class for the image. That means we need 10 output units for the 10 classes (digits). We'll see how to convert the network output into a probability distribution next.\n",
    "\n",
    "> **Exercise 2.1:** Flatten the batch of images `images`. Then build a multi-layer network with 784 input units, 256 hidden units, and 10 output units using random tensors for the weights and biases. For now, use a sigmoid activation for the hidden layer. Leave the output layer without an activation, we'll add one that gives us a probability distribution next."
   ]
  },
  {
   "cell_type": "code",
   "execution_count": 5,
   "metadata": {
    "collapsed": true
   },
   "outputs": [
    {
     "name": "stdout",
     "output_type": "stream",
     "text": [
      "Layer 1: tensor([[0.4928, 0.4067, 0.3722,  ..., 0.5277, 0.0985, 0.6506],\n",
      "        [0.4361, 0.4436, 0.3328,  ..., 0.4395, 0.0919, 0.6487],\n",
      "        [0.5062, 0.3841, 0.4105,  ..., 0.5167, 0.1068, 0.6569],\n",
      "        ...,\n",
      "        [0.4976, 0.3535, 0.4570,  ..., 0.5215, 0.0902, 0.6848],\n",
      "        [0.4424, 0.4262, 0.3194,  ..., 0.4858, 0.1102, 0.6162],\n",
      "        [0.4937, 0.3801, 0.4262,  ..., 0.4818, 0.1152, 0.6698]])\n"
     ]
    }
   ],
   "source": [
    "## Exercise 2.1\n",
    "## Your solution\n",
    "\n",
    "import numpy as np\n",
    "\n",
    "\n",
    "def activation(x):\n",
    "    out = np.exp(x) / (np.exp(x) + 1)\n",
    "    \n",
    "    return out\n",
    "\n",
    "flattened = images.flatten().reshape(64, 784)\n",
    "\n",
    "n_input = flattened.shape[1]\n",
    "n_hidden = 256\n",
    "n_output = 10\n",
    "\n",
    "# Painot inputista hiddeniin\n",
    "weights1 = torch.randn(n_input, n_hidden)*0.01\n",
    "# Painot hiddenistä outputiin\n",
    "weights2 = torch.randn(n_hidden, n_output)*0.01\n",
    "\n",
    "# Biasit kummallekin tasolle\n",
    "bias1 = torch.randn((1, n_hidden))\n",
    "bias2 = torch.randn((1, n_output))\n",
    "\n",
    "\n",
    "lincomb = torch.mm(flattened, weights1) + bias1\n",
    "hidden_output = activation(lincomb)\n",
    "print(f\"Layer 1: {hidden_output}\")\n",
    "\n",
    "lincomb = torch.mm(hidden_output, weights2) + bias2\n",
    "final_output = activation(lincomb)\n",
    "#print(f\"Layer 2: {final_output}\")"
   ]
  },
  {
   "cell_type": "markdown",
   "metadata": {},
   "source": [
    "Now we have 10 outputs for our network. We want to pass in an image to our network and get out a probability distribution over the classes that tells us the likely class(es) the image belongs to. Something that looks like this:\n",
    "<img src='assets/image_distribution.png' width=500px>\n",
    "\n",
    "Here we see that the probability for each class is roughly the same. This is representing an untrained network, it hasn't seen any data yet so it just returns a uniform distribution with equal probabilities for each class.\n",
    "\n",
    "To calculate this probability distribution, we often use the [**softmax** function](https://en.wikipedia.org/wiki/Softmax_function). Mathematically this looks like\n",
    "\n",
    "$$\n",
    "\\Large \\sigma(x_i) = \\cfrac{e^{x_i}}{\\sum_k^K{e^{x_k}}}\n",
    "$$\n",
    "\n",
    "What this does is squish each input $x_i$ between 0 and 1 and normalizes the values to give you a proper probability distribution where the probabilites sum up to one.\n",
    "\n",
    "> **Exercise 2.2:** Implement a function `softmax` that performs the softmax calculation and returns probability distributions for each example in the batch. Note that you'll need to pay attention to the shapes when doing this. If you have a tensor `a` with shape `(64, 10)` and a tensor `b` with shape `(64,)`, doing `a/b` will give you an error because PyTorch will try to do the division across the columns (called broadcasting) but you'll get a size mismatch. The way to think about this is for each of the 64 examples, you only want to divide by one value, the sum in the denominator. So you need `b` to have a shape of `(64, 1)`. This way PyTorch will divide the 10 values in each row of `a` by the one value in each row of `b`. Pay attention to how you take the sum as well. You'll need to define the `dim` keyword in `torch.sum`. Setting `dim=0` takes the sum across the rows while `dim=1` takes the sum across the columns."
   ]
  },
  {
   "cell_type": "code",
   "execution_count": 6,
   "metadata": {},
   "outputs": [
    {
     "name": "stdout",
     "output_type": "stream",
     "text": [
      "torch.Size([64, 1, 28, 28])\n",
      "torch.Size([64, 784])\n",
      "torch.Size([784, 256])\n",
      "torch.Size([256, 10])\n",
      "torch.Size([64, 256])\n",
      "torch.Size([64, 10])\n",
      "a shape:  torch.Size([64, 10])\n",
      "b shape:  torch.Size([64])\n",
      "a shape:  torch.Size([64, 10])\n",
      "b shape:  torch.Size([64])\n",
      "torch.Size([64, 10])\n",
      "tensor([1.0000, 1.0000, 1.0000, 1.0000, 1.0000, 1.0000, 1.0000, 1.0000, 1.0000,\n",
      "        1.0000, 1.0000, 1.0000, 1.0000, 1.0000, 1.0000, 1.0000, 1.0000, 1.0000,\n",
      "        1.0000, 1.0000, 1.0000, 1.0000, 1.0000, 1.0000, 1.0000, 1.0000, 1.0000,\n",
      "        1.0000, 1.0000, 1.0000, 1.0000, 1.0000, 1.0000, 1.0000, 1.0000, 1.0000,\n",
      "        1.0000, 1.0000, 1.0000, 1.0000, 1.0000, 1.0000, 1.0000, 1.0000, 1.0000,\n",
      "        1.0000, 1.0000, 1.0000, 1.0000, 1.0000, 1.0000, 1.0000, 1.0000, 1.0000,\n",
      "        1.0000, 1.0000, 1.0000, 1.0000, 1.0000, 1.0000, 1.0000, 1.0000, 1.0000,\n",
      "        1.0000])\n"
     ]
    }
   ],
   "source": [
    "## Exercise 2.2\n",
    "\n",
    "print(images.shape)\n",
    "print(flattened.shape)\n",
    "print(weights1.shape)\n",
    "print(weights2.shape)\n",
    "print(hidden_output.shape)\n",
    "print(final_output.shape)\n",
    "#weights_reshape = weights1.view(64,1)\n",
    "def softmax(x):\n",
    "    ## TODO: Implement the softmax function here\n",
    "\n",
    "    # Laske jokaisen tulosjoukon softmax-arvot x:nä.\n",
    "    print(\"a shape: \",np.exp(x).shape)\n",
    "    print(\"b shape: \",torch.sum(np.exp(x), dim=1).shape)\n",
    "    \n",
    "    a = np.exp(x)\n",
    "    b = torch.sum(np.exp(x), dim=1).view(64,1)\n",
    "    \n",
    "    output = a / b\n",
    "    \n",
    "    return output\n",
    "\n",
    "# Here, out should be the output of the network in the previous excercise with shape (64,10)\n",
    "out = softmax(final_output)\n",
    "\n",
    "probabilities = softmax(out)\n",
    "\n",
    "# Does it have the right shape? Should be (64, 10)\n",
    "print(probabilities.shape)\n",
    "# Does it sum to 1?\n",
    "print(probabilities.sum(dim=1))"
   ]
  },
  {
   "cell_type": "code",
   "execution_count": 7,
   "metadata": {},
   "outputs": [
    {
     "name": "stdout",
     "output_type": "stream",
     "text": [
      "Label: 3\n"
     ]
    },
    {
     "data": {
      "image/png": "[encoded data removed]",
      "text/plain": [
       "<Figure size 432x288 with 1 Axes>"
      ]
     },
     "metadata": {
      "image/png": {
       "height": 250,
       "width": 380
      },
      "needs_background": "light"
     },
     "output_type": "display_data"
    }
   ],
   "source": [
    "# Note. Actually your current probabilities does not look like picture above... :) \n",
    "# You can try here values 0...63\n",
    "plot_prob_for_Nth_digit = 30\n",
    "plt.stem(probabilities[plot_prob_for_Nth_digit, :])\n",
    "print(\"Label:\", labels[plot_prob_for_Nth_digit].item())"
   ]
  },
  {
   "cell_type": "markdown",
   "metadata": {},
   "source": [
    "## Error function (=loss function)\n",
    "\n",
    "Error function is used to estimate how good or actually bad our estimation is. Different type of machine learning algorithms use different types or error function, but basic idea is always same to estimate error to correct answer. And lower value is always better. By using this metric optimization algorithms e.g. gradient decent can optimize system performance. \n",
    "\n",
    "In machine learning error is also known as loss.\n",
    "\n",
    "Below you can find an error function for single picture classification to N classes.  \n",
    "\n",
    "<img src=\"assets/Error_function.svg\" width=600px>\n",
    "\n",
    "\n",
    "> **Exercise 2.3:** Implement an error calculation function for digit classification (10 classes, from 0 to 9). And calculate error value for exercise 2.2 propabilities.\n"
   ]
  },
  {
   "cell_type": "code",
   "execution_count": 27,
   "metadata": {},
   "outputs": [
    {
     "name": "stdout",
     "output_type": "stream",
     "text": [
      "\n",
      "\n",
      "y_hat:torch.Size([3, 10])\n",
      "y:torch.Size([3])\n",
      "Test error= tensor(2.4321)\n",
      "\n",
      "\n",
      "y_hat:torch.Size([64, 10])\n",
      "y:torch.Size([64])\n",
      "Loss error= tensor(20.8066)\n"
     ]
    }
   ],
   "source": [
    "## Exercise 2.3\n",
    "\n",
    "def error_function(y_hat, y, N, sizex, sizey):\n",
    "    \n",
    "    print(\"\\n\")\n",
    "    print(f\"y_hat:{y_hat.shape}\")\n",
    "    print(f\"y:{y.shape}\")\n",
    "    \n",
    "    # Löysin vinkin one-hot encoderiin täältä: https://stackoverflow.com/questions/29831489/convert-array-of-indices-to-1-hot-encoded-numpy-array\n",
    "    y_one_hot = torch.zeros(sizex, sizey)\n",
    "    y_one_hot[torch.arange(sizex),y] = 1\n",
    "    \n",
    "    '''Pari eri tapaa tehdä one-hot encondaus'''\n",
    "    #y_one_hot = torch.nn.functional.one_hot(y)\n",
    "    #y_one_hot = torch.eye(N)[y,:]\n",
    "    \n",
    "    output = - torch.sum(y_one_hot*torch.log(y_hat) + (1 - y_one_hot)*torch.log(1 - y_hat)) / N\n",
    "    \n",
    "    return output\n",
    "\n",
    "## Test your function\n",
    "test_labels = torch.tensor([0, 1, 6])\n",
    "test_probs = torch.tensor([[0.01, 0.91, 0.01, 0.01, 0.01, 0.01, 0.01, 0.01, 0.01, 0.01],\n",
    "                           [0.01, 0.91, 0.01, 0.01, 0.01, 0.01, 0.01, 0.01, 0.01, 0.01],\n",
    "                           [0.001, 0.001, 0.001, 0.001, 0.001, 0.001, 0.991, 0.001, 0.001, 0.001]])\n",
    "\n",
    "test_error = error_function(test_probs, test_labels, 3, 3,10)\n",
    "print(\"Test error=\", test_error)\n",
    "loss_error = error_function(probabilities, labels, 10, 64,10)\n",
    "print(\"Loss error=\", loss_error)"
   ]
  },
  {
   "cell_type": "markdown",
   "metadata": {},
   "source": [
    "If you did this correctly, you should see the output \n",
    "`Test error= tensor(2.4321)`. \n",
    "\n",
    "**Tip1:** Error values for 3 test samples are `tensor([7.0935, 0.1848, 0.0180])`.     \n",
    "**Tip2:** If you see error `/opt/conda/lib/python3.6/site-packages/ipykernel_launcher.py:14: RuntimeWarning: divide by zero encountered in log`, your model suffers vanishing/exploding weights (some probability values become ~ 0). You can fix this by scaling down your weights w1 and w2 in exercise 2.1. "
   ]
  },
  {
   "cell_type": "markdown",
   "metadata": {},
   "source": [
    "## Building networks with PyTorch\n",
    "\n",
    "PyTorch provides a module `nn` that makes building networks much simpler. Here I'll show you how to build the same one as above with 784 inputs, 256 hidden units, 10 output units and a softmax output."
   ]
  },
  {
   "cell_type": "code",
   "execution_count": 9,
   "metadata": {
    "collapsed": true
   },
   "outputs": [],
   "source": [
    "from torch import nn"
   ]
  },
  {
   "cell_type": "code",
   "execution_count": 10,
   "metadata": {
    "collapsed": true
   },
   "outputs": [],
   "source": [
    "class Network(nn.Module):\n",
    "    def __init__(self):\n",
    "        super().__init__()\n",
    "        \n",
    "        # Inputs to hidden layer linear transformation\n",
    "        self.hidden = nn.Linear(784, 256)\n",
    "        # Output layer, 10 units - one for each digit\n",
    "        self.output = nn.Linear(256, 10)\n",
    "        \n",
    "        # Define sigmoid activation and softmax output \n",
    "        self.sigmoid = nn.Sigmoid()\n",
    "        self.softmax = nn.Softmax(dim=1)\n",
    "        \n",
    "    def forward(self, x):\n",
    "        # Pass the input tensor through each of our operations\n",
    "        x = self.hidden(x)\n",
    "        x = self.sigmoid(x)\n",
    "        x = self.output(x)\n",
    "        x = self.softmax(x)\n",
    "        \n",
    "        return x"
   ]
  },
  {
   "cell_type": "markdown",
   "metadata": {},
   "source": [
    "Let's go through this bit by bit.\n",
    "\n",
    "```python\n",
    "class Network(nn.Module):\n",
    "```\n",
    "\n",
    "Here we're inheriting from `nn.Module`. Combined with `super().__init__()` this creates a class that tracks the architecture and provides a lot of useful methods and attributes. It is mandatory to inherit from `nn.Module` when you're creating a class for your network. The name of the class itself can be anything.\n",
    "\n",
    "```python\n",
    "self.hidden = nn.Linear(784, 256)\n",
    "```\n",
    "\n",
    "This line creates a module for a linear transformation, $x\\mathbf{W} + b$, with 784 inputs and 256 outputs and assigns it to `self.hidden`. The module automatically creates the weight and bias tensors which we'll use in the `forward` method. You can access the weight and bias tensors once the network (`net`) is created with `net.hidden.weight` and `net.hidden.bias`.\n",
    "\n",
    "```python\n",
    "self.output = nn.Linear(256, 10)\n",
    "```\n",
    "\n",
    "Similarly, this creates another linear transformation with 256 inputs and 10 outputs.\n",
    "\n",
    "```python\n",
    "self.sigmoid = nn.Sigmoid()\n",
    "self.softmax = nn.Softmax(dim=1)\n",
    "```\n",
    "\n",
    "Here I defined operations for the sigmoid activation and softmax output. Setting `dim=1` in `nn.Softmax(dim=1)` calculates softmax across the columns.\n",
    "\n",
    "```python\n",
    "def forward(self, x):\n",
    "```\n",
    "\n",
    "PyTorch networks created with `nn.Module` must have a `forward` method defined. It takes in a tensor `x` and passes it through the operations you defined in the `__init__` method.\n",
    "\n",
    "```python\n",
    "x = self.hidden(x)\n",
    "x = self.sigmoid(x)\n",
    "x = self.output(x)\n",
    "x = self.softmax(x)\n",
    "```\n",
    "\n",
    "Here the input tensor `x` is passed through each operation and reassigned to `x`. We can see that the input tensor goes through the hidden layer, then a sigmoid function, then the output layer, and finally the softmax function. It doesn't matter what you name the variables here, as long as the inputs and outputs of the operations match the network architecture you want to build. The order in which you define things in the `__init__` method doesn't matter, but you'll need to sequence the operations correctly in the `forward` method.\n",
    "\n",
    "Now we can create a `Network` object."
   ]
  },
  {
   "cell_type": "code",
   "execution_count": 11,
   "metadata": {
    "collapsed": true
   },
   "outputs": [
    {
     "data": {
      "text/plain": [
       "Network(\n",
       "  (hidden): Linear(in_features=784, out_features=256, bias=True)\n",
       "  (output): Linear(in_features=256, out_features=10, bias=True)\n",
       "  (sigmoid): Sigmoid()\n",
       "  (softmax): Softmax(dim=1)\n",
       ")"
      ]
     },
     "execution_count": 11,
     "metadata": {},
     "output_type": "execute_result"
    }
   ],
   "source": [
    "# Create the network and look at it's text representation\n",
    "model = Network()\n",
    "model"
   ]
  },
  {
   "cell_type": "markdown",
   "metadata": {},
   "source": [
    "You can define the network somewhat more concisely and clearly using the `torch.nn.functional` module. This is the most common way you'll see networks defined as many operations are simple element-wise functions. We normally import this module as `F`, `import torch.nn.functional as F`."
   ]
  },
  {
   "cell_type": "code",
   "execution_count": 32,
   "metadata": {
    "collapsed": true
   },
   "outputs": [],
   "source": [
    "import torch.nn.functional as F\n",
    "\n",
    "class Network(nn.Module):\n",
    "    def __init__(self):\n",
    "        super().__init__()\n",
    "        # Inputs to hidden layer linear transformation\n",
    "        self.hidden = nn.Linear(784, 256)\n",
    "        # Output layer, 10 units - one for each digit\n",
    "        self.output = nn.Linear(256, 10)\n",
    "        \n",
    "    def forward(self, x):\n",
    "        # Hidden layer with sigmoid activation\n",
    "        x = F.sigmoid(self.hidden(x))\n",
    "        # Output layer with softmax activation\n",
    "        x = F.softmax(self.output(x), dim=1)\n",
    "        \n",
    "        return x"
   ]
  },
  {
   "cell_type": "markdown",
   "metadata": {},
   "source": [
    "### Activation functions\n",
    "\n",
    "So far we've only been looking at the sigmoid activation function, but in general any function can be used as an activation function. The only requirement is that for a network to approximate a non-linear function, the activation functions must be non-linear. Here are a few more examples of common activation functions: Tanh (hyperbolic tangent), and ReLU (rectified linear unit).\n",
    "\n",
    "<img src=\"assets/activation.png\" width=700px>\n",
    "\n",
    "In practice, the ReLU function is used almost exclusively as the activation function for hidden layers."
   ]
  },
  {
   "cell_type": "markdown",
   "metadata": {},
   "source": [
    "### Your Turn to Build a Network\n",
    "\n",
    "<img src=\"assets/mlp_mnist.png\" width=600px>\n",
    "\n",
    "> **Exercise 2.4:** Create a network with 784 input units, a hidden layer with 128 units and a ReLU activation, then a hidden layer with 64 units and a ReLU activation, and finally an output layer with a softmax activation as shown above. You can use a ReLU activation with the `nn.ReLU` module or `F.relu` function.\n",
    ">\n",
    ">It's good practice to name your layers by their type of network, for instance 'fc' to represent a fully-connected layer. As you code your solution, use `fc1`, `fc2`, and `fc3` as your layer names."
   ]
  },
  {
   "cell_type": "code",
   "execution_count": 40,
   "metadata": {
    "collapsed": true,
    "scrolled": true
   },
   "outputs": [
    {
     "data": {
      "text/plain": [
       "Network(\n",
       "  (fc1): Linear(in_features=784, out_features=128, bias=True)\n",
       "  (fc2): Linear(in_features=128, out_features=64, bias=True)\n",
       "  (fc3): Linear(in_features=64, out_features=10, bias=True)\n",
       ")"
      ]
     },
     "execution_count": 40,
     "metadata": {},
     "output_type": "execute_result"
    }
   ],
   "source": [
    "## Exercise 2.4\n",
    "## Your solution here\n",
    "\n",
    "class Network(nn.Module):\n",
    "    def __init__(self):\n",
    "        super().__init__()\n",
    "        \n",
    "        self.fc1 = nn.Linear(784, 128)\n",
    "        self.fc2 = nn.Linear(128, 64)\n",
    "        self.fc3 = nn.Linear(64, 10)\n",
    "        \n",
    "    def forward(self, x):\n",
    "        \n",
    "        x = F.relu(self.fc1(x))\n",
    "        x = F.relu(self.fc2(x))\n",
    "        x = F.softmax(self.fc3(x), dim=1)\n",
    "        \n",
    "        return x\n",
    "\n",
    "model = Network()\n",
    "model"
   ]
  },
  {
   "cell_type": "markdown",
   "metadata": {},
   "source": [
    "**Tip.** You should see this kind on network description\n",
    "\n",
    "````\n",
    "Network(          \n",
    "  (fc1): Linear(in_features=784, out_features=128, bias=True)\n",
    "  (fc2): Linear(in_features=128, out_features=64, bias=True)                                        \n",
    "  (fc3): Linear(in_features=64, out_features=10, bias=True)                        \n",
    ")\n",
    "```"
   ]
  },
  {
   "cell_type": "markdown",
   "metadata": {},
   "source": [
    "### Initializing weights and biases\n",
    "\n",
    "The weights and such are automatically initialized for you, but it's possible to customize how they are initialized. The weights and biases are tensors attached to the layer you defined, you can get them with `model.fc1.weight` for instance."
   ]
  },
  {
   "cell_type": "code",
   "execution_count": 41,
   "metadata": {
    "collapsed": true
   },
   "outputs": [
    {
     "name": "stdout",
     "output_type": "stream",
     "text": [
      "Parameter containing:\n",
      "tensor([[-0.0142, -0.0302, -0.0143,  ..., -0.0189, -0.0098,  0.0074],\n",
      "        [ 0.0148, -0.0216, -0.0178,  ...,  0.0053, -0.0112,  0.0353],\n",
      "        [-0.0011,  0.0062,  0.0299,  ...,  0.0185, -0.0084,  0.0007],\n",
      "        ...,\n",
      "        [ 0.0324,  0.0299, -0.0281,  ...,  0.0176, -0.0328,  0.0332],\n",
      "        [-0.0263, -0.0273, -0.0344,  ..., -0.0321,  0.0059, -0.0307],\n",
      "        [ 0.0092,  0.0061, -0.0011,  ...,  0.0270,  0.0022, -0.0178]],\n",
      "       requires_grad=True)\n",
      "Parameter containing:\n",
      "tensor([ 0.0317,  0.0178, -0.0095, -0.0237,  0.0160,  0.0076, -0.0250, -0.0286,\n",
      "         0.0093,  0.0306, -0.0060, -0.0103, -0.0243,  0.0144,  0.0022, -0.0265,\n",
      "         0.0288, -0.0349, -0.0003, -0.0226, -0.0330,  0.0106,  0.0138, -0.0335,\n",
      "         0.0325, -0.0233,  0.0060, -0.0330,  0.0331,  0.0090, -0.0284, -0.0351,\n",
      "         0.0337, -0.0250, -0.0306, -0.0313, -0.0323, -0.0249, -0.0113,  0.0204,\n",
      "         0.0140,  0.0037, -0.0252,  0.0202,  0.0333,  0.0308, -0.0334, -0.0254,\n",
      "        -0.0170, -0.0066,  0.0120,  0.0029, -0.0298,  0.0039,  0.0003, -0.0143,\n",
      "        -0.0278, -0.0112,  0.0097,  0.0189,  0.0344,  0.0019, -0.0182,  0.0069,\n",
      "        -0.0033, -0.0232,  0.0330,  0.0195,  0.0055, -0.0306, -0.0246,  0.0356,\n",
      "        -0.0004, -0.0124, -0.0146,  0.0161,  0.0128, -0.0072, -0.0053, -0.0252,\n",
      "        -0.0264, -0.0205, -0.0111, -0.0276, -0.0241, -0.0137, -0.0152, -0.0098,\n",
      "        -0.0049, -0.0250,  0.0339,  0.0150, -0.0079,  0.0313, -0.0034,  0.0183,\n",
      "         0.0169, -0.0286,  0.0322, -0.0132,  0.0281,  0.0301, -0.0179, -0.0154,\n",
      "         0.0286, -0.0163,  0.0003,  0.0201,  0.0349,  0.0148, -0.0307, -0.0297,\n",
      "         0.0230,  0.0339, -0.0099, -0.0193, -0.0106, -0.0218,  0.0029, -0.0117,\n",
      "         0.0056, -0.0237,  0.0281,  0.0153,  0.0285,  0.0058,  0.0196, -0.0293],\n",
      "       requires_grad=True)\n"
     ]
    }
   ],
   "source": [
    "print(model.fc1.weight)\n",
    "print(model.fc1.bias)"
   ]
  },
  {
   "cell_type": "markdown",
   "metadata": {},
   "source": [
    "For custom initialization, we want to modify these tensors in place. These are actually autograd *Variables*, so we need to get back the actual tensors with `model.fc1.weight.data`. Once we have the tensors, we can fill them with zeros (for biases) or random normal values."
   ]
  },
  {
   "cell_type": "code",
   "execution_count": 42,
   "metadata": {
    "collapsed": true
   },
   "outputs": [
    {
     "data": {
      "text/plain": [
       "tensor([0., 0., 0., 0., 0., 0., 0., 0., 0., 0., 0., 0., 0., 0., 0., 0., 0., 0., 0., 0., 0., 0., 0., 0.,\n",
       "        0., 0., 0., 0., 0., 0., 0., 0., 0., 0., 0., 0., 0., 0., 0., 0., 0., 0., 0., 0., 0., 0., 0., 0.,\n",
       "        0., 0., 0., 0., 0., 0., 0., 0., 0., 0., 0., 0., 0., 0., 0., 0., 0., 0., 0., 0., 0., 0., 0., 0.,\n",
       "        0., 0., 0., 0., 0., 0., 0., 0., 0., 0., 0., 0., 0., 0., 0., 0., 0., 0., 0., 0., 0., 0., 0., 0.,\n",
       "        0., 0., 0., 0., 0., 0., 0., 0., 0., 0., 0., 0., 0., 0., 0., 0., 0., 0., 0., 0., 0., 0., 0., 0.,\n",
       "        0., 0., 0., 0., 0., 0., 0., 0.])"
      ]
     },
     "execution_count": 42,
     "metadata": {},
     "output_type": "execute_result"
    }
   ],
   "source": [
    "# Set biases to all zeros\n",
    "model.fc1.bias.data.fill_(0)"
   ]
  },
  {
   "cell_type": "code",
   "execution_count": 43,
   "metadata": {
    "collapsed": true
   },
   "outputs": [
    {
     "data": {
      "text/plain": [
       "tensor([[ 7.5050e-03, -2.8441e-02,  8.2079e-03,  ..., -1.5940e-03,\n",
       "         -1.2606e-03,  4.3229e-03],\n",
       "        [-7.0554e-03,  3.6759e-03,  7.7388e-03,  ..., -7.3914e-03,\n",
       "          4.0431e-03, -7.4808e-04],\n",
       "        [ 5.6875e-03,  4.4803e-03, -2.3477e-03,  ..., -2.8226e-02,\n",
       "          3.1282e-04,  8.9132e-03],\n",
       "        ...,\n",
       "        [-3.6596e-03,  8.8105e-03, -7.0899e-03,  ...,  2.5031e-03,\n",
       "         -3.5219e-03, -1.6185e-02],\n",
       "        [-1.6272e-02, -1.0456e-02,  1.0433e-02,  ...,  7.0368e-03,\n",
       "          6.3926e-03,  6.9967e-05],\n",
       "        [ 9.6895e-04, -8.8136e-03,  2.9214e-03,  ..., -1.0468e-02,\n",
       "         -4.0834e-03,  7.7213e-03]])"
      ]
     },
     "execution_count": 43,
     "metadata": {},
     "output_type": "execute_result"
    }
   ],
   "source": [
    "# sample from random normal with standard dev = 0.01\n",
    "model.fc1.weight.data.normal_(std=0.01)"
   ]
  },
  {
   "cell_type": "markdown",
   "metadata": {},
   "source": [
    "### Forward pass\n",
    "\n",
    "Now that we have a network, let's see what happens when we pass in an image."
   ]
  },
  {
   "cell_type": "code",
   "execution_count": 44,
   "metadata": {
    "collapsed": true
   },
   "outputs": [
    {
     "data": {
      "image/png": "[encoded data removed]",
      "text/plain": [
       "<Figure size 432x648 with 2 Axes>"
      ]
     },
     "metadata": {
      "image/png": {
       "height": 224,
       "width": 423
      },
      "needs_background": "light"
     },
     "output_type": "display_data"
    }
   ],
   "source": [
    "# Grab some data \n",
    "dataiter = iter(trainloader)\n",
    "images, labels = dataiter.next()\n",
    "\n",
    "# Resize images into a 1D vector, new shape is (batch size, color channels, image pixels) \n",
    "images.resize_(64, 1, 784)\n",
    "# or images.resize_(images.shape[0], 1, 784) to automatically get batch size\n",
    "\n",
    "# Forward pass through the network\n",
    "img_idx = 0\n",
    "ps = model.forward(images[img_idx,:])\n",
    "\n",
    "img = images[img_idx]\n",
    "helper.view_classify(img.view(1, 28, 28), ps)"
   ]
  },
  {
   "cell_type": "markdown",
   "metadata": {},
   "source": [
    "As you can see above, our network has basically no idea what this digit is. It's because we haven't trained it yet, all the weights are random!\n",
    "\n",
    "### Using `nn.Sequential`\n",
    "\n",
    "PyTorch provides a convenient way to build networks like this where a tensor is passed sequentially through operations, `nn.Sequential` ([documentation](https://pytorch.org/docs/master/nn.html#torch.nn.Sequential)). Using this to build the equivalent network:"
   ]
  },
  {
   "cell_type": "code",
   "execution_count": 45,
   "metadata": {
    "collapsed": true
   },
   "outputs": [
    {
     "name": "stdout",
     "output_type": "stream",
     "text": [
      "Sequential(\n",
      "  (0): Linear(in_features=784, out_features=128, bias=True)\n",
      "  (1): ReLU()\n",
      "  (2): Linear(in_features=128, out_features=64, bias=True)\n",
      "  (3): ReLU()\n",
      "  (4): Linear(in_features=64, out_features=10, bias=True)\n",
      "  (5): Softmax(dim=1)\n",
      ")\n"
     ]
    },
    {
     "data": {
      "image/png": "[encoded data removed]",
      "text/plain": [
       "<Figure size 432x648 with 2 Axes>"
      ]
     },
     "metadata": {
      "image/png": {
       "height": 224,
       "width": 423
      },
      "needs_background": "light"
     },
     "output_type": "display_data"
    }
   ],
   "source": [
    "# Hyperparameters for our network\n",
    "input_size = 784\n",
    "hidden_sizes = [128, 64]\n",
    "output_size = 10\n",
    "\n",
    "# Build a feed-forward network\n",
    "model = nn.Sequential(nn.Linear(input_size, hidden_sizes[0]),\n",
    "                      nn.ReLU(),\n",
    "                      nn.Linear(hidden_sizes[0], hidden_sizes[1]),\n",
    "                      nn.ReLU(),\n",
    "                      nn.Linear(hidden_sizes[1], output_size),\n",
    "                      nn.Softmax(dim=1))\n",
    "print(model)\n",
    "\n",
    "# Forward pass through the network and display output\n",
    "images, labels = next(iter(trainloader))\n",
    "images.resize_(images.shape[0], 1, 784)\n",
    "ps = model.forward(images[0,:])\n",
    "helper.view_classify(images[0].view(1, 28, 28), ps)"
   ]
  },
  {
   "cell_type": "markdown",
   "metadata": {},
   "source": [
    "Here our model is the same as before: 784 input units, a hidden layer with 128 units, ReLU activation, 64 unit hidden layer, another ReLU, then the output layer with 10 units, and the softmax output.\n",
    "\n",
    "The operations are available by passing in the appropriate index. For example, if you want to get first Linear operation and look at the weights, you'd use `model[0]`."
   ]
  },
  {
   "cell_type": "code",
   "execution_count": 46,
   "metadata": {
    "collapsed": true
   },
   "outputs": [
    {
     "name": "stdout",
     "output_type": "stream",
     "text": [
      "Linear(in_features=784, out_features=128, bias=True)\n"
     ]
    },
    {
     "data": {
      "text/plain": [
       "Parameter containing:\n",
       "tensor([[-0.0055, -0.0144,  0.0114,  ...,  0.0291, -0.0165, -0.0196],\n",
       "        [ 0.0008,  0.0335,  0.0354,  ...,  0.0031,  0.0063, -0.0260],\n",
       "        [ 0.0112,  0.0267,  0.0131,  ..., -0.0302, -0.0235,  0.0302],\n",
       "        ...,\n",
       "        [-0.0225, -0.0026, -0.0279,  ...,  0.0329, -0.0272,  0.0106],\n",
       "        [ 0.0340,  0.0201,  0.0009,  ...,  0.0294, -0.0319, -0.0308],\n",
       "        [-0.0300, -0.0173,  0.0286,  ..., -0.0286, -0.0103, -0.0286]],\n",
       "       requires_grad=True)"
      ]
     },
     "execution_count": 46,
     "metadata": {},
     "output_type": "execute_result"
    }
   ],
   "source": [
    "print(model[0])\n",
    "model[0].weight"
   ]
  },
  {
   "cell_type": "markdown",
   "metadata": {},
   "source": [
    "You can also pass in an `OrderedDict` to name the individual layers and operations, instead of using incremental integers. Note that dictionary keys must be unique, so _each operation must have a different name_."
   ]
  },
  {
   "cell_type": "code",
   "execution_count": 47,
   "metadata": {
    "collapsed": true
   },
   "outputs": [
    {
     "data": {
      "text/plain": [
       "Sequential(\n",
       "  (fc1): Linear(in_features=784, out_features=128, bias=True)\n",
       "  (relu1): ReLU()\n",
       "  (fc2): Linear(in_features=128, out_features=64, bias=True)\n",
       "  (relu2): ReLU()\n",
       "  (output): Linear(in_features=64, out_features=10, bias=True)\n",
       "  (softmax): Softmax(dim=1)\n",
       ")"
      ]
     },
     "execution_count": 47,
     "metadata": {},
     "output_type": "execute_result"
    }
   ],
   "source": [
    "from collections import OrderedDict\n",
    "model = nn.Sequential(OrderedDict([\n",
    "                      ('fc1', nn.Linear(input_size, hidden_sizes[0])),\n",
    "                      ('relu1', nn.ReLU()),\n",
    "                      ('fc2', nn.Linear(hidden_sizes[0], hidden_sizes[1])),\n",
    "                      ('relu2', nn.ReLU()),\n",
    "                      ('output', nn.Linear(hidden_sizes[1], output_size)),\n",
    "                      ('softmax', nn.Softmax(dim=1))]))\n",
    "model"
   ]
  },
  {
   "cell_type": "markdown",
   "metadata": {},
   "source": [
    "Now you can access layers either by integer or the name"
   ]
  },
  {
   "cell_type": "code",
   "execution_count": 48,
   "metadata": {
    "collapsed": true
   },
   "outputs": [
    {
     "name": "stdout",
     "output_type": "stream",
     "text": [
      "Linear(in_features=784, out_features=128, bias=True)\n",
      "Linear(in_features=784, out_features=128, bias=True)\n"
     ]
    }
   ],
   "source": [
    "print(model[0])\n",
    "print(model.fc1)"
   ]
  },
  {
   "cell_type": "markdown",
   "metadata": {},
   "source": [
    "In the next notebook, we'll see how we can train a neural network to accuractly predict the numbers appearing in the MNIST images."
   ]
  },
  {
   "cell_type": "markdown",
   "metadata": {},
   "source": [
    "## Reflection\n",
    "\n",
    "Answer briefly following questions (in English or Finnish):\n",
    "- How you should initialize weigths?\n",
    "- What is ReLU?\n",
    "- Why to shuffle data?\n",
    "- What is batch size?\n",
    "- When you should use softmax?\n"
   ]
  },
  {
   "cell_type": "markdown",
   "metadata": {},
   "source": [
    "- Ne pitää olla pieniä satunnaislukuja. Jos painot olisi vaikka 0, neuroverkko ei päivittäisi painoja eikä edistyisi. Automaattisesti määrittely siis kelpaa, mutta ne voi määritellä myös manuaalisesti.  \n",
    "Muutama huomio tosin: \n",
    "    - Jos painot alustetaan **liian isoilla** arvoilla, `np.dot (W, X) + b` nousee huomattavasti korkeammaksi aktivointifunktiot, kuten sigmoid(), funktio kartoittaa arvonsa lähelle ykköstä, missä kaltevuuden kaltevuus muuttuu hitaasti ja oppiminen vie paljon aikaa.  \n",
    "    - Jos painot alustetaan **liian pienillä** arvoilla, se kartoitetaan arvoon 0, missä mikä johtaa samaan ongelmaan.\n",
    "    - Kannattaa myös varoa \"katoavia\"/\"räjähtäviä\" painoja, eli todennäköisyysarvoista jotka ovat nollain paikkeilla). \n",
    "\n",
    "\n",
    "- ReLu: Rectified Linear unit, joka on melkein yksinomaan piilotettujen kerrosten aktivointifunktio. Se tuuttaa sisääntulon suoraan jos se on positiivinen, muuten se tuuttaa nollan.\n",
    "\n",
    "- Dataa shufflataan ettei oteta aina samaa dataa samassa järjestyksessä verkkoon, jottei se saisi siitä biasia tai löytäisi jotakin kuviota. Mallin suorituskyky ja ennustusten laatu paranee.\n",
    "\n",
    "- Eräkoko. Se on osa datasta, joka otetaan yhdellä iteraatiolla data loaderista joka kuljetetaan verkon läpi.\n",
    "\n",
    "- Softmaxia käytetään aktivointifunktiona moniluokkaluokituksissa, missä luokkien lukumäärä on yli 2."
   ]
  }
 ],
 "metadata": {
  "kernelspec": {
   "display_name": "Python 3",
   "language": "python",
   "name": "python3"
  },
  "language_info": {
   "codemirror_mode": {
    "name": "ipython",
    "version": 3
   },
   "file_extension": ".py",
   "mimetype": "text/x-python",
   "name": "python",
   "nbconvert_exporter": "python",
   "pygments_lexer": "ipython3",
   "version": "3.6.7"
  }
 },
 "nbformat": 4,
 "nbformat_minor": 2
}
